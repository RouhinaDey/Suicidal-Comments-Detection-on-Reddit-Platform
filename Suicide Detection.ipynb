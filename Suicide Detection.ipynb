{
 "cells": [
  {
   "cell_type": "markdown",
   "metadata": {
    "id": "p26kKBG_CShB"
   },
   "source": [
    "## Objective - To predict 'suicidal comments' posted on Reddit platform \n",
    "\n",
    "The dataset is taken from : https://www.kaggle.com/\n",
    "\n",
    "Table of Contents     \n",
    "1. Import libraries\n",
    "2. Load the data \n",
    "3. Class-label Distribution\n",
    "4. Pre-processing Text Data \n",
    "5. Label Encoding of the Class label\n",
    "6. Splitting the data into Train and Test \n",
    "7. Vectorization of text data    \n",
    "8. Applying Naive Bayes   \n",
    "9. Performance Metrics to test my model          \n",
    "10. Top Features    \n",
    "11. Checking my model on Futute Unseen Data   \n",
    "12. Inferences and Conclusion"
   ]
  },
  {
   "cell_type": "markdown",
   "metadata": {},
   "source": [
    "<h2><font color=\"blue\"> 1. Import Libraries"
   ]
  },
  {
   "cell_type": "code",
   "execution_count": 1,
   "metadata": {},
   "outputs": [],
   "source": [
    "import os\n",
    "import warnings\n",
    "warnings.filterwarnings('ignore')\n",
    "\n",
    "import pandas as pd\n",
    "import numpy as np\n",
    "import seaborn as sns\n",
    "import matplotlib.pyplot as plt\n",
    "import nltk\n",
    "from nltk.corpus import stopwords\n",
    "import re\n",
    "from tqdm import tqdm\n",
    "from nltk.tokenize import word_tokenize\n",
    "from nltk.stem import PorterStemmer\n",
    "from sklearn import preprocessing\n",
    "from sklearn.model_selection import train_test_split\n",
    "from sklearn.feature_extraction.text import TfidfVectorizer\n",
    "from sklearn.feature_extraction.text import CountVectorizer\n",
    "from sklearn.model_selection import GridSearchCV\n",
    "from sklearn.naive_bayes import MultinomialNB\n",
    "from sklearn.metrics import accuracy_score\n",
    "from sklearn.model_selection import cross_val_score\n",
    "from sklearn.metrics import roc_curve, auc, roc_auc_score\n",
    "from sklearn import metrics\n",
    "from sklearn.metrics import plot_confusion_matrix"
   ]
  },
  {
   "cell_type": "markdown",
   "metadata": {},
   "source": [
    "<h2><font color=\"blue\"> 2. Load the data "
   ]
  },
  {
   "cell_type": "code",
   "execution_count": 2,
   "metadata": {
    "id": "uz4DK40hCftJ"
   },
   "outputs": [],
   "source": [
    "data= pd.read_csv(\"Suicide_Detection.csv\", nrows= 100000)"
   ]
  },
  {
   "cell_type": "code",
   "execution_count": 3,
   "metadata": {
    "colab": {
     "base_uri": "https://localhost:8080/",
     "height": 204
    },
    "id": "7Q52sceVDB_a",
    "outputId": "28edc9dc-430f-40fe-c6a3-3821c227ab22"
   },
   "outputs": [
    {
     "data": {
      "text/html": [
       "<div>\n",
       "<style scoped>\n",
       "    .dataframe tbody tr th:only-of-type {\n",
       "        vertical-align: middle;\n",
       "    }\n",
       "\n",
       "    .dataframe tbody tr th {\n",
       "        vertical-align: top;\n",
       "    }\n",
       "\n",
       "    .dataframe thead th {\n",
       "        text-align: right;\n",
       "    }\n",
       "</style>\n",
       "<table border=\"1\" class=\"dataframe\">\n",
       "  <thead>\n",
       "    <tr style=\"text-align: right;\">\n",
       "      <th></th>\n",
       "      <th>Unnamed: 0</th>\n",
       "      <th>text</th>\n",
       "      <th>class</th>\n",
       "    </tr>\n",
       "  </thead>\n",
       "  <tbody>\n",
       "    <tr>\n",
       "      <th>0</th>\n",
       "      <td>2</td>\n",
       "      <td>Ex Wife Threatening SuicideRecently I left my ...</td>\n",
       "      <td>suicide</td>\n",
       "    </tr>\n",
       "    <tr>\n",
       "      <th>1</th>\n",
       "      <td>3</td>\n",
       "      <td>Am I weird I don't get affected by compliments...</td>\n",
       "      <td>non-suicide</td>\n",
       "    </tr>\n",
       "    <tr>\n",
       "      <th>2</th>\n",
       "      <td>4</td>\n",
       "      <td>Finally 2020 is almost over... So I can never ...</td>\n",
       "      <td>non-suicide</td>\n",
       "    </tr>\n",
       "    <tr>\n",
       "      <th>3</th>\n",
       "      <td>8</td>\n",
       "      <td>i need helpjust help me im crying so hard</td>\n",
       "      <td>suicide</td>\n",
       "    </tr>\n",
       "    <tr>\n",
       "      <th>4</th>\n",
       "      <td>9</td>\n",
       "      <td>I’m so lostHello, my name is Adam (16) and I’v...</td>\n",
       "      <td>suicide</td>\n",
       "    </tr>\n",
       "  </tbody>\n",
       "</table>\n",
       "</div>"
      ],
      "text/plain": [
       "   Unnamed: 0                                               text        class\n",
       "0           2  Ex Wife Threatening SuicideRecently I left my ...      suicide\n",
       "1           3  Am I weird I don't get affected by compliments...  non-suicide\n",
       "2           4  Finally 2020 is almost over... So I can never ...  non-suicide\n",
       "3           8          i need helpjust help me im crying so hard      suicide\n",
       "4           9  I’m so lostHello, my name is Adam (16) and I’v...      suicide"
      ]
     },
     "execution_count": 3,
     "metadata": {},
     "output_type": "execute_result"
    }
   ],
   "source": [
    "data.head()"
   ]
  },
  {
   "cell_type": "markdown",
   "metadata": {},
   "source": [
    "<h2><font color=\"blue\"> 3. Class-label Distribution"
   ]
  },
  {
   "cell_type": "code",
   "execution_count": 4,
   "metadata": {},
   "outputs": [
    {
     "data": {
      "image/png": "[encoded data removed]",
      "text/plain": [
       "<Figure size 360x432 with 1 Axes>"
      ]
     },
     "metadata": {
      "needs_background": "light"
     },
     "output_type": "display_data"
    }
   ],
   "source": [
    "plt.figure(figsize=(5,6))\n",
    "sns.histplot(data=data, x='class',shrink= 0.8, binwidth=8)\n",
    "plt.show()"
   ]
  },
  {
   "cell_type": "markdown",
   "metadata": {},
   "source": [
    "<h2><font color= \"blue\"> 4. Pre-processing Text Data"
   ]
  },
  {
   "cell_type": "code",
   "execution_count": 5,
   "metadata": {},
   "outputs": [
    {
     "name": "stderr",
     "output_type": "stream",
     "text": [
      "[nltk_data] Downloading package stopwords to\n",
      "[nltk_data]     C:\\Users\\Owner\\AppData\\Roaming\\nltk_data...\n",
      "[nltk_data]   Package stopwords is already up-to-date!\n"
     ]
    },
    {
     "data": {
      "text/plain": [
       "True"
      ]
     },
     "execution_count": 5,
     "metadata": {},
     "output_type": "execute_result"
    }
   ],
   "source": [
    "nltk.download('stopwords')"
   ]
  },
  {
   "cell_type": "markdown",
   "metadata": {},
   "source": [
    "<h3> Checking the missing values"
   ]
  },
  {
   "cell_type": "code",
   "execution_count": 6,
   "metadata": {},
   "outputs": [
    {
     "name": "stdout",
     "output_type": "stream",
     "text": [
      "False\n",
      "number of nan values 0\n"
     ]
    }
   ],
   "source": [
    "print(data['text'].isnull().values.any())\n",
    "print(\"number of nan values\",data['text'].isnull().values.sum())"
   ]
  },
  {
   "cell_type": "code",
   "execution_count": 7,
   "metadata": {},
   "outputs": [],
   "source": [
    "stop_words= stopwords.words(\"english\")"
   ]
  },
  {
   "cell_type": "code",
   "execution_count": 8,
   "metadata": {},
   "outputs": [],
   "source": [
    "data[\"text\"]= data[\"text\"].str.lower()"
   ]
  },
  {
   "cell_type": "code",
   "execution_count": 9,
   "metadata": {},
   "outputs": [
    {
     "name": "stderr",
     "output_type": "stream",
     "text": [
      "[nltk_data] Downloading package punkt to\n",
      "[nltk_data]     C:\\Users\\Owner\\AppData\\Roaming\\nltk_data...\n",
      "[nltk_data]   Package punkt is already up-to-date!\n"
     ]
    },
    {
     "data": {
      "text/plain": [
       "True"
      ]
     },
     "execution_count": 9,
     "metadata": {},
     "output_type": "execute_result"
    }
   ],
   "source": [
    "import nltk\n",
    "nltk.download('punkt')"
   ]
  },
  {
   "cell_type": "markdown",
   "metadata": {},
   "source": [
    "<h3> Text data cleaning, removing punctuations, spaces, numbers and converting the text data into lowercase"
   ]
  },
  {
   "cell_type": "code",
   "execution_count": 10,
   "metadata": {},
   "outputs": [
    {
     "name": "stderr",
     "output_type": "stream",
     "text": [
      "100%|██████████| 100000/100000 [01:09<00:00, 1433.48it/s]\n"
     ]
    }
   ],
   "source": [
    "#code references from www.appliedaicourse.com\n",
    "import re\n",
    "def preprocessing_txt(text):\n",
    "    clean_text=[]\n",
    "    tokens= []\n",
    "    for words in tqdm(text):\n",
    "        words= re.sub(r\"won't\" ,\"will not\" , words)\n",
    "        words= re.sub(r\"can\\'t\", \"can not\",words )\n",
    "        words = re.sub(r\"n\\'t\", \" not\", words)\n",
    "        words = re.sub(r\"\\'re\", \" are\", words)\n",
    "        words = re.sub(r\"\\'s\", \" is\", words)\n",
    "        words = re.sub(r\"\\'d\", \" would\", words)\n",
    "        words = re.sub(r\"\\'ll\", \" will\", words)\n",
    "        words = re.sub(r\"\\'t\", \" not\", words)\n",
    "        words = re.sub(r\"\\'ve\", \" have\", words)\n",
    "        words = re.sub(r\"\\'m\", \" am\", words)\n",
    "        words= re.sub(r\"\\d+\",\"\",words)\n",
    "        words = words.replace(\"im\", \"I am\")\n",
    "        words= words.replace(\"\\\\r\", \" \")\n",
    "        words= words.replace(\"\\\\n\", \" \")\n",
    "        words= words.replace('\\\\\"', ' ')\n",
    "        words= re.sub(\"[^A-Za-z0-9]+\", \" \", words)\n",
    "        words = ' '.join(i for i in words.split() if i.lower() not in stop_words)\n",
    "        clean_text.append(words.lower().strip())\n",
    "        \n",
    "    return clean_text\n",
    "                             \n",
    "data[\"cleaned_text\"]= preprocessing_txt(data[\"text\"])"
   ]
  },
  {
   "cell_type": "markdown",
   "metadata": {},
   "source": [
    "<h3> Tokenization"
   ]
  },
  {
   "cell_type": "code",
   "execution_count": 11,
   "metadata": {},
   "outputs": [],
   "source": [
    "#https://pythonhealthcare.org/2018/12/14/101-pre-processing-data-tokenization-stemming-and-removal-of-stop-words/\n",
    "def identify_tokens(row):\n",
    "    texts = row['cleaned_text']\n",
    "    tokens = nltk.word_tokenize(texts)\n",
    "    token_words = [w for w in tokens]\n",
    "    return token_words\n",
    "\n",
    "data['tokenized_words'] = data.apply(identify_tokens, axis=1)"
   ]
  },
  {
   "cell_type": "markdown",
   "metadata": {},
   "source": [
    "<h3> Stemming"
   ]
  },
  {
   "cell_type": "code",
   "execution_count": 12,
   "metadata": {},
   "outputs": [],
   "source": [
    "#https://pythonhealthcare.org/2018/12/14/101-pre-processing-data-tokenization-stemming-and-removal-of-stop-words/\n",
    "def stem_list(row):\n",
    "    porter= PorterStemmer()\n",
    "    my_list = row['tokenized_words']\n",
    "    stemmed_list = [porter.stem(word) for word in my_list]\n",
    "    return stemmed_list\n",
    "\n",
    "data['stemmed_words'] = data.apply(stem_list, axis=1)"
   ]
  },
  {
   "cell_type": "code",
   "execution_count": 13,
   "metadata": {},
   "outputs": [],
   "source": [
    "def rejoin_words(row):\n",
    "    my_list = row['stemmed_words']\n",
    "    joined_words = ( \" \".join(my_list))\n",
    "    return joined_words\n",
    "\n",
    "data['processed_comments'] = data.apply(rejoin_words, axis=1)"
   ]
  },
  {
   "cell_type": "code",
   "execution_count": 14,
   "metadata": {},
   "outputs": [
    {
     "data": {
      "text/html": [
       "<div>\n",
       "<style scoped>\n",
       "    .dataframe tbody tr th:only-of-type {\n",
       "        vertical-align: middle;\n",
       "    }\n",
       "\n",
       "    .dataframe tbody tr th {\n",
       "        vertical-align: top;\n",
       "    }\n",
       "\n",
       "    .dataframe thead th {\n",
       "        text-align: right;\n",
       "    }\n",
       "</style>\n",
       "<table border=\"1\" class=\"dataframe\">\n",
       "  <thead>\n",
       "    <tr style=\"text-align: right;\">\n",
       "      <th></th>\n",
       "      <th>Unnamed: 0</th>\n",
       "      <th>text</th>\n",
       "      <th>class</th>\n",
       "      <th>cleaned_text</th>\n",
       "      <th>tokenized_words</th>\n",
       "      <th>stemmed_words</th>\n",
       "      <th>processed_comments</th>\n",
       "    </tr>\n",
       "  </thead>\n",
       "  <tbody>\n",
       "    <tr>\n",
       "      <th>0</th>\n",
       "      <td>2</td>\n",
       "      <td>ex wife threatening suiciderecently i left my ...</td>\n",
       "      <td>suicide</td>\n",
       "      <td>ex wife threatening suiciderecently left wife ...</td>\n",
       "      <td>[ex, wife, threatening, suiciderecently, left,...</td>\n",
       "      <td>[ex, wife, threaten, suiciderec, left, wife, g...</td>\n",
       "      <td>ex wife threaten suiciderec left wife good che...</td>\n",
       "    </tr>\n",
       "    <tr>\n",
       "      <th>1</th>\n",
       "      <td>3</td>\n",
       "      <td>am i weird i don't get affected by compliments...</td>\n",
       "      <td>non-suicide</td>\n",
       "      <td>weird get affected compli aments coming someon...</td>\n",
       "      <td>[weird, get, affected, compli, aments, coming,...</td>\n",
       "      <td>[weird, get, affect, compli, ament, come, some...</td>\n",
       "      <td>weird get affect compli ament come someon know...</td>\n",
       "    </tr>\n",
       "    <tr>\n",
       "      <th>2</th>\n",
       "      <td>4</td>\n",
       "      <td>finally 2020 is almost over... so i can never ...</td>\n",
       "      <td>non-suicide</td>\n",
       "      <td>finally almost never hear bad year ever swear ...</td>\n",
       "      <td>[finally, almost, never, hear, bad, year, ever...</td>\n",
       "      <td>[final, almost, never, hear, bad, year, ever, ...</td>\n",
       "      <td>final almost never hear bad year ever swear fu...</td>\n",
       "    </tr>\n",
       "    <tr>\n",
       "      <th>3</th>\n",
       "      <td>8</td>\n",
       "      <td>i need helpjust help me im crying so hard</td>\n",
       "      <td>suicide</td>\n",
       "      <td>need helpjust help crying hard</td>\n",
       "      <td>[need, helpjust, help, crying, hard]</td>\n",
       "      <td>[need, helpjust, help, cri, hard]</td>\n",
       "      <td>need helpjust help cri hard</td>\n",
       "    </tr>\n",
       "    <tr>\n",
       "      <th>4</th>\n",
       "      <td>9</td>\n",
       "      <td>i’m so losthello, my name is adam (16) and i’v...</td>\n",
       "      <td>suicide</td>\n",
       "      <td>losthello name adam struggling years afraid pa...</td>\n",
       "      <td>[losthello, name, adam, struggling, years, afr...</td>\n",
       "      <td>[losthello, name, adam, struggl, year, afraid,...</td>\n",
       "      <td>losthello name adam struggl year afraid past y...</td>\n",
       "    </tr>\n",
       "  </tbody>\n",
       "</table>\n",
       "</div>"
      ],
      "text/plain": [
       "   Unnamed: 0                                               text        class  \\\n",
       "0           2  ex wife threatening suiciderecently i left my ...      suicide   \n",
       "1           3  am i weird i don't get affected by compliments...  non-suicide   \n",
       "2           4  finally 2020 is almost over... so i can never ...  non-suicide   \n",
       "3           8          i need helpjust help me im crying so hard      suicide   \n",
       "4           9  i’m so losthello, my name is adam (16) and i’v...      suicide   \n",
       "\n",
       "                                        cleaned_text  \\\n",
       "0  ex wife threatening suiciderecently left wife ...   \n",
       "1  weird get affected compli aments coming someon...   \n",
       "2  finally almost never hear bad year ever swear ...   \n",
       "3                     need helpjust help crying hard   \n",
       "4  losthello name adam struggling years afraid pa...   \n",
       "\n",
       "                                     tokenized_words  \\\n",
       "0  [ex, wife, threatening, suiciderecently, left,...   \n",
       "1  [weird, get, affected, compli, aments, coming,...   \n",
       "2  [finally, almost, never, hear, bad, year, ever...   \n",
       "3               [need, helpjust, help, crying, hard]   \n",
       "4  [losthello, name, adam, struggling, years, afr...   \n",
       "\n",
       "                                       stemmed_words  \\\n",
       "0  [ex, wife, threaten, suiciderec, left, wife, g...   \n",
       "1  [weird, get, affect, compli, ament, come, some...   \n",
       "2  [final, almost, never, hear, bad, year, ever, ...   \n",
       "3                  [need, helpjust, help, cri, hard]   \n",
       "4  [losthello, name, adam, struggl, year, afraid,...   \n",
       "\n",
       "                                  processed_comments  \n",
       "0  ex wife threaten suiciderec left wife good che...  \n",
       "1  weird get affect compli ament come someon know...  \n",
       "2  final almost never hear bad year ever swear fu...  \n",
       "3                        need helpjust help cri hard  \n",
       "4  losthello name adam struggl year afraid past y...  "
      ]
     },
     "execution_count": 14,
     "metadata": {},
     "output_type": "execute_result"
    }
   ],
   "source": [
    "data.head()"
   ]
  },
  {
   "cell_type": "markdown",
   "metadata": {},
   "source": [
    "<h2><font color=\"blue\"> 5. Label Encoding of the Class-label"
   ]
  },
  {
   "cell_type": "code",
   "execution_count": 15,
   "metadata": {},
   "outputs": [],
   "source": [
    "label= preprocessing.LabelEncoder()\n",
    "data[\"target\"]= label.fit_transform(data[\"class\"])\n"
   ]
  },
  {
   "cell_type": "code",
   "execution_count": 16,
   "metadata": {},
   "outputs": [
    {
     "data": {
      "text/html": [
       "<div>\n",
       "<style scoped>\n",
       "    .dataframe tbody tr th:only-of-type {\n",
       "        vertical-align: middle;\n",
       "    }\n",
       "\n",
       "    .dataframe tbody tr th {\n",
       "        vertical-align: top;\n",
       "    }\n",
       "\n",
       "    .dataframe thead th {\n",
       "        text-align: right;\n",
       "    }\n",
       "</style>\n",
       "<table border=\"1\" class=\"dataframe\">\n",
       "  <thead>\n",
       "    <tr style=\"text-align: right;\">\n",
       "      <th></th>\n",
       "      <th>Unnamed: 0</th>\n",
       "      <th>text</th>\n",
       "      <th>class</th>\n",
       "      <th>cleaned_text</th>\n",
       "      <th>tokenized_words</th>\n",
       "      <th>stemmed_words</th>\n",
       "      <th>processed_comments</th>\n",
       "      <th>target</th>\n",
       "    </tr>\n",
       "  </thead>\n",
       "  <tbody>\n",
       "    <tr>\n",
       "      <th>0</th>\n",
       "      <td>2</td>\n",
       "      <td>ex wife threatening suiciderecently i left my ...</td>\n",
       "      <td>suicide</td>\n",
       "      <td>ex wife threatening suiciderecently left wife ...</td>\n",
       "      <td>[ex, wife, threatening, suiciderecently, left,...</td>\n",
       "      <td>[ex, wife, threaten, suiciderec, left, wife, g...</td>\n",
       "      <td>ex wife threaten suiciderec left wife good che...</td>\n",
       "      <td>1</td>\n",
       "    </tr>\n",
       "    <tr>\n",
       "      <th>1</th>\n",
       "      <td>3</td>\n",
       "      <td>am i weird i don't get affected by compliments...</td>\n",
       "      <td>non-suicide</td>\n",
       "      <td>weird get affected compli aments coming someon...</td>\n",
       "      <td>[weird, get, affected, compli, aments, coming,...</td>\n",
       "      <td>[weird, get, affect, compli, ament, come, some...</td>\n",
       "      <td>weird get affect compli ament come someon know...</td>\n",
       "      <td>0</td>\n",
       "    </tr>\n",
       "    <tr>\n",
       "      <th>2</th>\n",
       "      <td>4</td>\n",
       "      <td>finally 2020 is almost over... so i can never ...</td>\n",
       "      <td>non-suicide</td>\n",
       "      <td>finally almost never hear bad year ever swear ...</td>\n",
       "      <td>[finally, almost, never, hear, bad, year, ever...</td>\n",
       "      <td>[final, almost, never, hear, bad, year, ever, ...</td>\n",
       "      <td>final almost never hear bad year ever swear fu...</td>\n",
       "      <td>0</td>\n",
       "    </tr>\n",
       "    <tr>\n",
       "      <th>3</th>\n",
       "      <td>8</td>\n",
       "      <td>i need helpjust help me im crying so hard</td>\n",
       "      <td>suicide</td>\n",
       "      <td>need helpjust help crying hard</td>\n",
       "      <td>[need, helpjust, help, crying, hard]</td>\n",
       "      <td>[need, helpjust, help, cri, hard]</td>\n",
       "      <td>need helpjust help cri hard</td>\n",
       "      <td>1</td>\n",
       "    </tr>\n",
       "    <tr>\n",
       "      <th>4</th>\n",
       "      <td>9</td>\n",
       "      <td>i’m so losthello, my name is adam (16) and i’v...</td>\n",
       "      <td>suicide</td>\n",
       "      <td>losthello name adam struggling years afraid pa...</td>\n",
       "      <td>[losthello, name, adam, struggling, years, afr...</td>\n",
       "      <td>[losthello, name, adam, struggl, year, afraid,...</td>\n",
       "      <td>losthello name adam struggl year afraid past y...</td>\n",
       "      <td>1</td>\n",
       "    </tr>\n",
       "  </tbody>\n",
       "</table>\n",
       "</div>"
      ],
      "text/plain": [
       "   Unnamed: 0                                               text        class  \\\n",
       "0           2  ex wife threatening suiciderecently i left my ...      suicide   \n",
       "1           3  am i weird i don't get affected by compliments...  non-suicide   \n",
       "2           4  finally 2020 is almost over... so i can never ...  non-suicide   \n",
       "3           8          i need helpjust help me im crying so hard      suicide   \n",
       "4           9  i’m so losthello, my name is adam (16) and i’v...      suicide   \n",
       "\n",
       "                                        cleaned_text  \\\n",
       "0  ex wife threatening suiciderecently left wife ...   \n",
       "1  weird get affected compli aments coming someon...   \n",
       "2  finally almost never hear bad year ever swear ...   \n",
       "3                     need helpjust help crying hard   \n",
       "4  losthello name adam struggling years afraid pa...   \n",
       "\n",
       "                                     tokenized_words  \\\n",
       "0  [ex, wife, threatening, suiciderecently, left,...   \n",
       "1  [weird, get, affected, compli, aments, coming,...   \n",
       "2  [finally, almost, never, hear, bad, year, ever...   \n",
       "3               [need, helpjust, help, crying, hard]   \n",
       "4  [losthello, name, adam, struggling, years, afr...   \n",
       "\n",
       "                                       stemmed_words  \\\n",
       "0  [ex, wife, threaten, suiciderec, left, wife, g...   \n",
       "1  [weird, get, affect, compli, ament, come, some...   \n",
       "2  [final, almost, never, hear, bad, year, ever, ...   \n",
       "3                  [need, helpjust, help, cri, hard]   \n",
       "4  [losthello, name, adam, struggl, year, afraid,...   \n",
       "\n",
       "                                  processed_comments  target  \n",
       "0  ex wife threaten suiciderec left wife good che...       1  \n",
       "1  weird get affect compli ament come someon know...       0  \n",
       "2  final almost never hear bad year ever swear fu...       0  \n",
       "3                        need helpjust help cri hard       1  \n",
       "4  losthello name adam struggl year afraid past y...       1  "
      ]
     },
     "execution_count": 16,
     "metadata": {},
     "output_type": "execute_result"
    }
   ],
   "source": [
    "data.head()"
   ]
  },
  {
   "cell_type": "markdown",
   "metadata": {},
   "source": [
    "<h3> Checking the missing values"
   ]
  },
  {
   "cell_type": "code",
   "execution_count": 17,
   "metadata": {},
   "outputs": [
    {
     "name": "stdout",
     "output_type": "stream",
     "text": [
      "False\n",
      "number of nan values 0\n"
     ]
    }
   ],
   "source": [
    "print(data['class'].isnull().values.any())\n",
    "print(\"number of nan values\",data['class'].isnull().values.sum())"
   ]
  },
  {
   "cell_type": "markdown",
   "metadata": {},
   "source": [
    "<h2><font color=\"blue\"> 6. Splitting the data to Train and Test"
   ]
  },
  {
   "cell_type": "markdown",
   "metadata": {},
   "source": [
    "<h4> I will be using GridSearchCV for hyperparameter tuning. GridSearchCV internally creates the cv set and so I am not splitting my data into train, cv and test. The model will learn better if it gets more train data. "
   ]
  },
  {
   "cell_type": "code",
   "execution_count": 18,
   "metadata": {},
   "outputs": [],
   "source": [
    "X= data[\"processed_comments\"]\n",
    "Y= data[\"target\"]"
   ]
  },
  {
   "cell_type": "code",
   "execution_count": 19,
   "metadata": {},
   "outputs": [],
   "source": [
    "X_train, X_test,Y_train,Y_test= train_test_split(X,Y, test_size=0.33,random_state=0)\n"
   ]
  },
  {
   "cell_type": "markdown",
   "metadata": {},
   "source": [
    "<h2> <font color= \"blue\"> 7. Vectorization of Text data"
   ]
  },
  {
   "cell_type": "markdown",
   "metadata": {},
   "source": [
    "<h3> Bag of Words"
   ]
  },
  {
   "cell_type": "code",
   "execution_count": 53,
   "metadata": {},
   "outputs": [
    {
     "name": "stdout",
     "output_type": "stream",
     "text": [
      "(67000, 54547) (67000,)\n",
      "(33000, 54547) (33000,)\n"
     ]
    }
   ],
   "source": [
    "vectorizer= CountVectorizer()\n",
    "text_data_1= vectorizer.fit(X_train.values)\n",
    "xtrain_1= vectorizer.transform(X_train.values)\n",
    "xtest_1= vectorizer.transform(X_test.values)\n",
    "print(xtrain_1.shape, Y_train.shape)\n",
    "print(xtest_1.shape, Y_test.shape)"
   ]
  },
  {
   "cell_type": "markdown",
   "metadata": {},
   "source": [
    "<h3> TFIDF "
   ]
  },
  {
   "cell_type": "code",
   "execution_count": 54,
   "metadata": {},
   "outputs": [
    {
     "name": "stdout",
     "output_type": "stream",
     "text": [
      "(67000, 54547) (67000,)\n",
      "(33000, 54547) (33000,)\n"
     ]
    }
   ],
   "source": [
    "model_2= TfidfVectorizer()\n",
    "text_data_2= model_2.fit(X_train.values)\n",
    "xtrain_2= model_2.transform(X_train.values)\n",
    "xtest_2= model_2.transform(X_test.values)\n",
    "print(xtrain_2.shape, Y_train.shape)\n",
    "print(xtest_2.shape, Y_test.shape)\n"
   ]
  },
  {
   "cell_type": "markdown",
   "metadata": {},
   "source": [
    "<h2><font color=\"blue\"> 8. Applying Naive Bayes"
   ]
  },
  {
   "cell_type": "markdown",
   "metadata": {},
   "source": [
    "<h3> SET 1: BoW "
   ]
  },
  {
   "cell_type": "markdown",
   "metadata": {},
   "source": [
    "<h3> Hyperparameter tuning"
   ]
  },
  {
   "cell_type": "code",
   "execution_count": 55,
   "metadata": {},
   "outputs": [
    {
     "name": "stdout",
     "output_type": "stream",
     "text": [
      "Best alpha value is  0.1\n",
      "Best score value is  0.897044776119403\n"
     ]
    }
   ],
   "source": [
    "parameters= {\"alpha\": [0.00001, 0.00005, 0.0001, 0.0005, 0.001, 0.005, 0.01, 0.05, 0.1, 0.5, 1, 5, 10, 50, 100, 500, 1000, 2500, 5000, 10000]}\n",
    "clf1= GridSearchCV(MultinomialNB(), parameters, cv=10, return_train_score= True)\n",
    "clf1.fit(xtrain_1,Y_train)\n",
    "alpha1= clf1.best_params_[\"alpha\"]\n",
    "score1= clf1.best_score_\n",
    "print(\"Best alpha value is \", alpha1)\n",
    "print(\"Best score value is \", score1)"
   ]
  },
  {
   "cell_type": "code",
   "execution_count": 56,
   "metadata": {},
   "outputs": [],
   "source": [
    "auc_train_1= clf1.cv_results_['mean_train_score']\n",
    "auc_test_1= clf1.cv_results_[\"mean_test_score\"]"
   ]
  },
  {
   "cell_type": "code",
   "execution_count": 57,
   "metadata": {},
   "outputs": [
    {
     "name": "stderr",
     "output_type": "stream",
     "text": [
      "100%|██████████| 20/20 [00:00<?, ?it/s]\n"
     ]
    },
    {
     "data": {
      "image/png": "[encoded data removed]",
      "text/plain": [
       "<Figure size 720x360 with 1 Axes>"
      ]
     },
     "metadata": {
      "needs_background": "light"
     },
     "output_type": "display_data"
    }
   ],
   "source": [
    "#code reference taken from https://www.kaggle.com/nikhilparmar9/naive-bayes-donorschoose-dataset\n",
    "log_alpha=[]\n",
    "alpha_vals= [0.00001, 0.00005, 0.0001, 0.0005, 0.001, 0.005, 0.01, 0.05, 0.1, 0.5, 1, 5, 10, 50, 100, 500, 1000, 2500, 5000, 10000]\n",
    "for i in tqdm(alpha_vals):\n",
    "    c= np.log10(i)\n",
    "    log_alpha.append(c)\n",
    "plt.figure(figsize=(10,5))\n",
    "plt.scatter(log_alpha,auc_train_1, label= \"Train AUC points\")\n",
    "plt.scatter(log_alpha,auc_test_1, label= \"Test AUC points\")\n",
    "plt.plot(log_alpha,auc_train_1, label= \"Train AUC curve\")\n",
    "plt.plot(log_alpha,auc_test_1, label= \"Test AUC curve\")\n",
    "plt.legend()\n",
    "plt.xlabel(\"Hyperparameter - log ALPHA\")\n",
    "plt.ylabel(\"AUC\")\n",
    "plt.title(\"Hyperparameter vs AUC\")\n",
    "plt.grid()\n",
    "plt.show()\n"
   ]
  },
  {
   "cell_type": "markdown",
   "metadata": {},
   "source": [
    "<h4> After performing hyperparameter tuning using GridSearchCV, the best value of alpha is found. Now the train data is trained using the best hyperparameter and then the mean of train scores and test scores are computed. The range of alpha is converted to log alpha. All the mean train and test scores are plotted against the log values of alpha.  "
   ]
  },
  {
   "cell_type": "markdown",
   "metadata": {},
   "source": [
    "<h3> Accuracy Score"
   ]
  },
  {
   "cell_type": "code",
   "execution_count": 58,
   "metadata": {
    "scrolled": true
   },
   "outputs": [
    {
     "name": "stdout",
     "output_type": "stream",
     "text": [
      "Accuacy is 89.409 %\n"
     ]
    }
   ],
   "source": [
    "model_1= MultinomialNB(0.1)\n",
    "model_1.fit(xtrain_1, Y_train)\n",
    "y_pred_1= model_1.predict(xtest_1)\n",
    "acc_1= accuracy_score(y_pred_1, Y_test)\n",
    "acc_percent= round(acc_1*100,3)\n",
    "print(\"Accuacy is\", acc_percent,\"%\")"
   ]
  },
  {
   "cell_type": "markdown",
   "metadata": {},
   "source": [
    "<h4> The best hyperparameter is used to fit the model on train data. Then it predicts the classes (positive or negative) of the test data. The accuracy score tells the number of correct classification for the test data given the actual values of the classes."
   ]
  },
  {
   "cell_type": "markdown",
   "metadata": {},
   "source": [
    "<h2> <font color=\"blue\"> 9. Performance Metrics to test my model"
   ]
  },
  {
   "cell_type": "markdown",
   "metadata": {},
   "source": [
    "<h3> ROC Curve"
   ]
  },
  {
   "cell_type": "code",
   "execution_count": 59,
   "metadata": {},
   "outputs": [
    {
     "data": {
      "text/plain": [
       "<Figure size 1440x720 with 0 Axes>"
      ]
     },
     "metadata": {},
     "output_type": "display_data"
    },
    {
     "data": {
      "image/png": "[encoded data removed]",
      "text/plain": [
       "<Figure size 432x288 with 1 Axes>"
      ]
     },
     "metadata": {
      "needs_background": "light"
     },
     "output_type": "display_data"
    }
   ],
   "source": [
    "model_1 = MultinomialNB(0.1)\n",
    "model_1.fit(xtrain_1, Y_train)\n",
    "plt.figure(figsize=(20,10))\n",
    "metrics.plot_roc_curve(model_1, xtest_1, Y_test)\n",
    "plt.title(\"ROC Curve\")\n",
    "plt.grid()\n",
    "plt.show()"
   ]
  },
  {
   "cell_type": "markdown",
   "metadata": {},
   "source": [
    "<h4> The ROC curve gives an idea of how many positive points are correctly classified as positive. Using Bag of Words, the AUC score is 0.96 which is very close to 1. The ideal AUC value is 1. So, it can be said that my model performance is good. "
   ]
  },
  {
   "cell_type": "markdown",
   "metadata": {},
   "source": [
    "<h3> Confusion Matrix"
   ]
  },
  {
   "cell_type": "code",
   "execution_count": 60,
   "metadata": {},
   "outputs": [
    {
     "data": {
      "image/png": "[encoded data removed]",
      "text/plain": [
       "<Figure size 432x288 with 2 Axes>"
      ]
     },
     "metadata": {
      "needs_background": "light"
     },
     "output_type": "display_data"
    }
   ],
   "source": [
    "model_1= MultinomialNB(0.1)\n",
    "model_1.fit(xtrain_1, Y_train)\n",
    "plot_confusion_matrix(model_1, xtest_1,Y_test)\n",
    "#https://stackoverflow.com/questions/50543885/how-to-remove-grid-lines-on-image-in-python/50652936\n",
    "plt.rcParams[\"axes.grid\"] = False\n",
    "plt.rcParams[\"font.size\"]= 15\n",
    "plt.title(\"Confusion Matrix\", fontsize= 13)\n",
    "plt.xlabel(\"Predicted\")\n",
    "plt.ylabel(\"Actual\")\n",
    "plt.show()"
   ]
  },
  {
   "cell_type": "markdown",
   "metadata": {},
   "source": [
    "<h4> From the confusion matrix, true negative= 13823, false positive= 2759, false negative= 736 and true positive= 15682.  "
   ]
  },
  {
   "cell_type": "code",
   "execution_count": 61,
   "metadata": {},
   "outputs": [],
   "source": [
    "y_te_1= []\n",
    "for i in Y_test:\n",
    "    test= float(i)\n",
    "    y_te_1.append(test)\n",
    "#print(y_te)"
   ]
  },
  {
   "cell_type": "code",
   "execution_count": 62,
   "metadata": {},
   "outputs": [],
   "source": [
    "def pred(xtrain_1,xtest_1,Y_train, Y_test, y_te_1,threshold):\n",
    "    y_pred_1= []\n",
    "    model_1= MultinomialNB(0.1)\n",
    "    model_1.fit(xtrain_1, Y_train)\n",
    "    \n",
    "    y= model_1.predict_proba(xtest_1)[:,1]\n",
    "    for i in range(len(y)):\n",
    "        if y[i]>=threshold:\n",
    "            y[i]= 1\n",
    "        else:\n",
    "            y[i]= 0\n",
    "        y_pred_1.append(y[i])\n",
    "    \n",
    "    \n",
    "    tp=0\n",
    "    tn=0\n",
    "    fp=0\n",
    "    fn=0\n",
    "    l= list(Y_test)\n",
    "    for i in range(len(y_pred_1)):\n",
    "        if(y_pred_1[i]==1) and (y_te_1[i]==1):\n",
    "            tp+=1\n",
    "        if(y_pred_1[i]==0) and (y_te_1[i]==0):\n",
    "            tn+=1\n",
    "        if(y_pred_1[i]==0) and (y_te_1[i]==1):\n",
    "            fn+=1\n",
    "        if(y_pred_1[i]==1) and (y_te_1[i]==0):\n",
    "            fp+=1\n",
    "    return {\"true_negative\": tn, \"false_positive\": fp, \"false_negative\":fn, \"true_positive\":tp}\n",
    "            \n",
    "        \n",
    "            \n",
    "threshold = 0.5 \n",
    "confusion_matrix_1=pred(xtrain_1,xtest_1,Y_train, Y_test, y_te_1, threshold)\n",
    "\n",
    "    "
   ]
  },
  {
   "cell_type": "markdown",
   "metadata": {},
   "source": [
    "<h3> F1 Score"
   ]
  },
  {
   "cell_type": "code",
   "execution_count": 63,
   "metadata": {},
   "outputs": [
    {
     "name": "stdout",
     "output_type": "stream",
     "text": [
      "F1 score = 0.9\n"
     ]
    }
   ],
   "source": [
    "Precision_1= confusion_matrix_1[\"true_positive\"]/(confusion_matrix_1[\"true_positive\"]+ confusion_matrix_1[\"false_positive\"])\n",
    "Recall_1= confusion_matrix_1[\"true_positive\"]/(confusion_matrix_1[\"true_positive\"]+ confusion_matrix_1[\"false_negative\"])\n",
    "F_Score_1 = 2*Precision_1*Recall_1/(Precision_1+Recall_1)\n",
    "F1_Score_1 = round(F_Score_1,3)\n",
    "print(\"F1 score =\", F1_Score_1)"
   ]
  },
  {
   "cell_type": "markdown",
   "metadata": {},
   "source": [
    "<h4> The best value of F1 score is 1. The F1 score of my model is 0.9 which is close to 1. This indicates that my model has low false positives and low false negatives."
   ]
  },
  {
   "cell_type": "markdown",
   "metadata": {},
   "source": [
    "<h3> Mean Squared Error"
   ]
  },
  {
   "cell_type": "code",
   "execution_count": 64,
   "metadata": {},
   "outputs": [
    {
     "name": "stdout",
     "output_type": "stream",
     "text": [
      "Mean Squared Error = 0.106\n"
     ]
    }
   ],
   "source": [
    "def mse(xtrain_1, xtest_1,Y_test, Y_train,y_te_1,threshold):\n",
    "    sq_error=0\n",
    "    y_pred= []\n",
    "    model_1= MultinomialNB(0.1)\n",
    "    model_1.fit(xtrain_1, Y_train)\n",
    "    \n",
    "    y1= model_1.predict_proba(xtest_1)[:,1]\n",
    "    for i in range(len(y1)):\n",
    "        if y1[i]>=threshold:\n",
    "            y1[i]= 1\n",
    "        else:\n",
    "            y1[i]= 0\n",
    "        y_pred.append(y1[i])\n",
    "    for i in range(len(y_pred)):\n",
    "        sq_error+= (y_te_1[i]-y_pred[i])**2\n",
    "    MSE= sq_error/len(y_pred)\n",
    "    MSE_1= round(MSE,3)\n",
    "    return MSE_1\n",
    "threshold= 0.5\n",
    "mean_sq_error= mse(xtrain_1, xtest_1,Y_test, Y_train,y_te_1, threshold)\n",
    "print(\"Mean Squared Error =\", mean_sq_error)\n",
    "    "
   ]
  },
  {
   "cell_type": "markdown",
   "metadata": {},
   "source": [
    "<h4> Mean Squared error is the mean of the square difference of the predicted values and actual values. Lower value of MSE means the model performance is good.The value of MSE for my model is 0.106 when I used BoW for vectorization. "
   ]
  },
  {
   "cell_type": "markdown",
   "metadata": {},
   "source": [
    "<h3> SET 2: TFIDF"
   ]
  },
  {
   "cell_type": "markdown",
   "metadata": {},
   "source": [
    "<h3> Hyperparameter tuning "
   ]
  },
  {
   "cell_type": "code",
   "execution_count": 65,
   "metadata": {},
   "outputs": [
    {
     "name": "stdout",
     "output_type": "stream",
     "text": [
      "Best alpha value is  0.05\n",
      "Best score value is  0.9696553077793225\n"
     ]
    }
   ],
   "source": [
    "parameters = {\"alpha\":[0.00001, 0.00005, 0.0001, 0.0005, 0.001, 0.005, 0.01, 0.05, 0.1, 0.5, 1, 5, 10, 50, 100, 500, 1000, 2500, 5000, 10000]}\n",
    "clf2= GridSearchCV(MultinomialNB(),parameters, cv=15, scoring= \"roc_auc\", return_train_score= True)\n",
    "clf2.fit(xtrain_2, Y_train)\n",
    "alpha2= clf2.best_params_[\"alpha\"] \n",
    "score2= clf2.best_score_\n",
    "print(\"Best alpha value is \", alpha2)\n",
    "print(\"Best score value is \", score2)"
   ]
  },
  {
   "cell_type": "code",
   "execution_count": 66,
   "metadata": {},
   "outputs": [],
   "source": [
    "auc_train_2= clf2.cv_results_['mean_train_score']\n",
    "auc_test_2= clf2.cv_results_[\"mean_test_score\"]"
   ]
  },
  {
   "cell_type": "code",
   "execution_count": 67,
   "metadata": {},
   "outputs": [
    {
     "name": "stderr",
     "output_type": "stream",
     "text": [
      "100%|██████████| 20/20 [00:00<00:00, 19991.92it/s]\n"
     ]
    },
    {
     "data": {
      "image/png": "[encoded data removed]",
      "text/plain": [
       "<Figure size 720x360 with 1 Axes>"
      ]
     },
     "metadata": {
      "needs_background": "light"
     },
     "output_type": "display_data"
    }
   ],
   "source": [
    "#code reference taken from https://www.kaggle.com/nikhilparmar9/naive-bayes-donorschoose-dataset\n",
    "log_alpha=[]\n",
    "alpha_vals= [0.00001, 0.00005, 0.0001, 0.0005, 0.001, 0.005, 0.01, 0.05, 0.1, 0.5, 1, 5, 10, 50, 100, 500, 1000, 2500, 5000, 10000]\n",
    "for i in tqdm(alpha_vals):\n",
    "    c= np.log10(i)\n",
    "    log_alpha.append(c)\n",
    "plt.figure(figsize=(10,5))\n",
    "plt.scatter(log_alpha,auc_train_2, label= \"Train AUC curve\")\n",
    "plt.scatter(log_alpha,auc_test_2, label= \"Test AUC curve\")\n",
    "plt.plot(log_alpha,auc_train_2, label= \"Train AUC curve\")\n",
    "plt.plot(log_alpha,auc_test_2, label= \"Test AUC curve\")\n",
    "plt.xlabel(\"Hyperparameter - log ALPHA\")\n",
    "plt.ylabel(\"AUC\")\n",
    "plt.title(\"Hyperparameter vs AUC\")\n",
    "plt.grid()\n",
    "plt.show()\n"
   ]
  },
  {
   "cell_type": "markdown",
   "metadata": {},
   "source": [
    "<h4> The best value of the hyperparameter alpha is 0.05 in case of TFIDF. The AUC axis represents the mean scores of train and test data. Lower value of AUC corresponds to higher value of log alpha from the plot."
   ]
  },
  {
   "cell_type": "markdown",
   "metadata": {},
   "source": [
    "<h3> Accuracy Score"
   ]
  },
  {
   "cell_type": "code",
   "execution_count": 68,
   "metadata": {},
   "outputs": [
    {
     "name": "stdout",
     "output_type": "stream",
     "text": [
      "Accuacy is 89.752 %\n"
     ]
    }
   ],
   "source": [
    "model_2= MultinomialNB(0.05)\n",
    "model_2.fit(xtrain_2, Y_train)\n",
    "y_pred_2= model_2.predict(xtest_2)\n",
    "acc_2= accuracy_score(y_pred_2, Y_test)\n",
    "acc_percent= round(acc_2*100,3)\n",
    "print(\"Accuacy is\", acc_percent,\"%\")"
   ]
  },
  {
   "cell_type": "markdown",
   "metadata": {},
   "source": [
    "<h4> The accuracy of the test data is 89.752% for TFIDF. This value is very close to the accuracy score for BoW. "
   ]
  },
  {
   "cell_type": "markdown",
   "metadata": {},
   "source": [
    "<h3> ROC Curve"
   ]
  },
  {
   "cell_type": "code",
   "execution_count": 69,
   "metadata": {},
   "outputs": [
    {
     "data": {
      "text/plain": [
       "<Figure size 1440x720 with 0 Axes>"
      ]
     },
     "metadata": {},
     "output_type": "display_data"
    },
    {
     "data": {
      "image/png": "[encoded data removed]",
      "text/plain": [
       "<Figure size 432x288 with 1 Axes>"
      ]
     },
     "metadata": {
      "needs_background": "light"
     },
     "output_type": "display_data"
    }
   ],
   "source": [
    "model = MultinomialNB(0.05)\n",
    "model.fit(xtrain_2, Y_train)\n",
    "plt.figure(figsize=(20,10))\n",
    "metrics.plot_roc_curve(model, xtest_2, Y_test)\n",
    "plt.title(\"ROC Curve\")\n",
    "plt.grid()\n",
    "plt.show()"
   ]
  },
  {
   "cell_type": "markdown",
   "metadata": {},
   "source": [
    "<h4> From the plot, I have got AUC value = 0.97 which is very close to 1. This implies the performance of my model is good. "
   ]
  },
  {
   "cell_type": "markdown",
   "metadata": {},
   "source": [
    "<h3> Confusion Matrix"
   ]
  },
  {
   "cell_type": "code",
   "execution_count": 70,
   "metadata": {},
   "outputs": [
    {
     "data": {
      "image/png": "[encoded data removed]",
      "text/plain": [
       "<Figure size 432x288 with 2 Axes>"
      ]
     },
     "metadata": {
      "needs_background": "light"
     },
     "output_type": "display_data"
    }
   ],
   "source": [
    "model_2= MultinomialNB(0.05)\n",
    "model_2.fit(xtrain_2, Y_train)\n",
    "plot_confusion_matrix(model_2, xtest_2,Y_test)\n",
    "#https://stackoverflow.com/questions/50543885/how-to-remove-grid-lines-on-image-in-python/50652936\n",
    "plt.rcParams[\"axes.grid\"] = False\n",
    "plt.rcParams[\"font.size\"]= 15\n",
    "plt.title(\"Confusion Matrix\", fontsize= 13)\n",
    "plt.xlabel(\"Predicted\")\n",
    "plt.ylabel(\"Actual\")\n",
    "plt.show()\n"
   ]
  },
  {
   "cell_type": "markdown",
   "metadata": {},
   "source": [
    "<h4> From the confusion matrix I can say that although there are many misclassifications of positive and negative classes, the number of correctly classified comments for both suicidal and non-suicidal comments is comparatively more than the number of misclassified comments. "
   ]
  },
  {
   "cell_type": "code",
   "execution_count": 71,
   "metadata": {},
   "outputs": [],
   "source": [
    "y_te_2= []\n",
    "for i in Y_test:\n",
    "    test= float(i)\n",
    "    y_te_2.append(test)\n",
    "#print(y_te)"
   ]
  },
  {
   "cell_type": "code",
   "execution_count": 72,
   "metadata": {},
   "outputs": [],
   "source": [
    "def pred(xtrain_2,xtest_2,Y_train, Y_test, y_te_2,threshold):\n",
    "    y_pred_2= []\n",
    "    model_2= MultinomialNB(0.05)\n",
    "    model_2.fit(xtrain_2, Y_train)\n",
    "    \n",
    "    y= model_2.predict_proba(xtest_2)[:,1]\n",
    "    for i in range(len(y)):\n",
    "        if y[i]>=threshold:\n",
    "            y[i]= 1\n",
    "        else:\n",
    "            y[i]= 0\n",
    "        y_pred_2.append(y[i])\n",
    "    \n",
    "    \n",
    "    tp=0\n",
    "    tn=0\n",
    "    fp=0\n",
    "    fn=0\n",
    "    l= list(Y_test)\n",
    "    for i in range(len(y_pred_2)):\n",
    "        if(y_pred_2[i]==1) and (y_te_2[i]==1):\n",
    "            tp+=1\n",
    "        if(y_pred_2[i]==0) and (y_te_2[i]==0):\n",
    "            tn+=1\n",
    "        if(y_pred_2[i]==0) and (y_te_2[i]==1):\n",
    "            fn+=1\n",
    "        if(y_pred_2[i]==1) and (y_te_2[i]==0):\n",
    "            fp+=1\n",
    "    return {\"true_negative\": tn, \"false_positive\": fp, \"false_negative\":fn, \"true_positive\":tp}\n",
    "            \n",
    "        \n",
    "            \n",
    "threshold = 0.5 \n",
    "confusion_matrix_2=pred(xtrain_2,xtest_2,Y_train, Y_test, y_te_2, threshold)\n",
    "    "
   ]
  },
  {
   "cell_type": "markdown",
   "metadata": {},
   "source": [
    "<h3> F1 Score"
   ]
  },
  {
   "cell_type": "code",
   "execution_count": 73,
   "metadata": {},
   "outputs": [
    {
     "name": "stdout",
     "output_type": "stream",
     "text": [
      "F1 score = 0.902\n"
     ]
    }
   ],
   "source": [
    "Precision_2= confusion_matrix_2[\"true_positive\"]/(confusion_matrix_2[\"true_positive\"]+ confusion_matrix_2[\"false_positive\"])\n",
    "Recall_2= confusion_matrix_2[\"true_positive\"]/(confusion_matrix_2[\"true_positive\"]+ confusion_matrix_2[\"false_negative\"])\n",
    "F_Score_2 = 2*Precision_2*Recall_2/(Precision_2+Recall_2)\n",
    "F1_Score_2 = round(F_Score_2,3)\n",
    "print(\"F1 score =\", F1_Score_2)"
   ]
  },
  {
   "cell_type": "markdown",
   "metadata": {},
   "source": [
    "<h4> The F1 score of my model is 0.902 which is close to 1. This means that my data has low false positive and low false negative values. "
   ]
  },
  {
   "cell_type": "markdown",
   "metadata": {},
   "source": [
    "<h3> Mean Squared Error"
   ]
  },
  {
   "cell_type": "code",
   "execution_count": 74,
   "metadata": {},
   "outputs": [
    {
     "name": "stdout",
     "output_type": "stream",
     "text": [
      "Mean Squared Error = 0.103\n"
     ]
    }
   ],
   "source": [
    "def mse(xtrain_2, xtest_2,Y_test, Y_train,y_te_2,threshold):\n",
    "    sq_error=0\n",
    "    y_pred= []\n",
    "    model_2= MultinomialNB(0.05)\n",
    "    model_2.fit(xtrain_2, Y_train)\n",
    "    \n",
    "    y2= model_2.predict_proba(xtest_2)[:,1]\n",
    "    for i in range(len(y2)):\n",
    "        if y2[i]>=threshold:\n",
    "            y2[i]= 1\n",
    "        else:\n",
    "            y2[i]= 0\n",
    "        y_pred.append(y2[i])\n",
    "    for i in range(len(y_pred)):\n",
    "        sq_error+= (y_te_2[i]-y_pred[i])**2\n",
    "    MSE= sq_error/len(y_pred)\n",
    "    MSE_2= round(MSE,3)\n",
    "    return MSE_2\n",
    "threshold= 0.5\n",
    "mean_sq_error= mse(xtrain_2, xtest_2,Y_test, Y_train,y_te_2, threshold)\n",
    "print(\"Mean Squared Error =\", mean_sq_error)\n",
    "    "
   ]
  },
  {
   "cell_type": "markdown",
   "metadata": {},
   "source": [
    "<h4> A lower value of MSE implies better performance of a model. My model gives MSE value of 0.103 which can be considered as low."
   ]
  },
  {
   "cell_type": "markdown",
   "metadata": {},
   "source": [
    "<h2><font color=\"blue\"> 10. Top Features"
   ]
  },
  {
   "cell_type": "markdown",
   "metadata": {},
   "source": [
    "<h3> SET1: BoW"
   ]
  },
  {
   "cell_type": "code",
   "execution_count": 75,
   "metadata": {},
   "outputs": [
    {
     "data": {
      "text/html": [
       "<div>\n",
       "<style scoped>\n",
       "    .dataframe tbody tr th:only-of-type {\n",
       "        vertical-align: middle;\n",
       "    }\n",
       "\n",
       "    .dataframe tbody tr th {\n",
       "        vertical-align: top;\n",
       "    }\n",
       "\n",
       "    .dataframe thead th {\n",
       "        text-align: right;\n",
       "    }\n",
       "</style>\n",
       "<table border=\"1\" class=\"dataframe\">\n",
       "  <thead>\n",
       "    <tr style=\"text-align: right;\">\n",
       "      <th></th>\n",
       "      <th>feature_log_probability</th>\n",
       "      <th>feature_names</th>\n",
       "    </tr>\n",
       "  </thead>\n",
       "  <tbody>\n",
       "    <tr>\n",
       "      <th>43674</th>\n",
       "      <td>-5.706955</td>\n",
       "      <td>someon</td>\n",
       "    </tr>\n",
       "    <tr>\n",
       "      <th>3030</th>\n",
       "      <td>-5.640915</td>\n",
       "      <td>anyth</td>\n",
       "    </tr>\n",
       "    <tr>\n",
       "      <th>11978</th>\n",
       "      <td>-5.557765</td>\n",
       "      <td>depress</td>\n",
       "    </tr>\n",
       "    <tr>\n",
       "      <th>46336</th>\n",
       "      <td>-5.496967</td>\n",
       "      <td>talk</td>\n",
       "    </tr>\n",
       "    <tr>\n",
       "      <th>31320</th>\n",
       "      <td>-5.357617</td>\n",
       "      <td>much</td>\n",
       "    </tr>\n",
       "    <tr>\n",
       "      <th>45512</th>\n",
       "      <td>-5.208415</td>\n",
       "      <td>suicid</td>\n",
       "    </tr>\n",
       "    <tr>\n",
       "      <th>38946</th>\n",
       "      <td>-5.102800</td>\n",
       "      <td>realli</td>\n",
       "    </tr>\n",
       "    <tr>\n",
       "      <th>53836</th>\n",
       "      <td>-4.974589</td>\n",
       "      <td>year</td>\n",
       "    </tr>\n",
       "    <tr>\n",
       "      <th>53256</th>\n",
       "      <td>-4.730433</td>\n",
       "      <td>would</td>\n",
       "    </tr>\n",
       "    <tr>\n",
       "      <th>26448</th>\n",
       "      <td>-4.511299</td>\n",
       "      <td>know</td>\n",
       "    </tr>\n",
       "  </tbody>\n",
       "</table>\n",
       "</div>"
      ],
      "text/plain": [
       "       feature_log_probability feature_names\n",
       "43674                -5.706955        someon\n",
       "3030                 -5.640915         anyth\n",
       "11978                -5.557765       depress\n",
       "46336                -5.496967          talk\n",
       "31320                -5.357617          much\n",
       "45512                -5.208415        suicid\n",
       "38946                -5.102800        realli\n",
       "53836                -4.974589          year\n",
       "53256                -4.730433         would\n",
       "26448                -4.511299          know"
      ]
     },
     "execution_count": 75,
     "metadata": {},
     "output_type": "execute_result"
    }
   ],
   "source": [
    "get_features= []\n",
    "for i in text_data_1.get_feature_names():\n",
    "    get_features.append(i)\n",
    "#print(get_features)\n",
    "top_features={}\n",
    "model= MultinomialNB(alpha=0.1)\n",
    "model.fit(xtrain_1,Y_train)\n",
    "#code reference taken from https://www.kaggle.com/nikhilparmar9/naive-bayes-donorschoose-dataset\n",
    "for j in range(len(get_features)):\n",
    "    top_features[j]= model.feature_log_prob_[1,j]\n",
    "final_features = pd.DataFrame({'feature_log_probability' : list(top_features.values()),'feature_names' : list(get_features)})\n",
    "top = final_features.sort_values(by = ['feature_log_probability'])\n",
    "top.tail(50)[1::5]"
   ]
  },
  {
   "cell_type": "markdown",
   "metadata": {},
   "source": [
    "<h3> SET 2: TFIDF"
   ]
  },
  {
   "cell_type": "code",
   "execution_count": 76,
   "metadata": {},
   "outputs": [
    {
     "data": {
      "text/html": [
       "<div>\n",
       "<style scoped>\n",
       "    .dataframe tbody tr th:only-of-type {\n",
       "        vertical-align: middle;\n",
       "    }\n",
       "\n",
       "    .dataframe tbody tr th {\n",
       "        vertical-align: top;\n",
       "    }\n",
       "\n",
       "    .dataframe thead th {\n",
       "        text-align: right;\n",
       "    }\n",
       "</style>\n",
       "<table border=\"1\" class=\"dataframe\">\n",
       "  <thead>\n",
       "    <tr style=\"text-align: right;\">\n",
       "      <th></th>\n",
       "      <th>feature_log_probability</th>\n",
       "      <th>feature_names</th>\n",
       "    </tr>\n",
       "  </thead>\n",
       "  <tbody>\n",
       "    <tr>\n",
       "      <th>22096</th>\n",
       "      <td>-5.962450</td>\n",
       "      <td>hi</td>\n",
       "    </tr>\n",
       "    <tr>\n",
       "      <th>32960</th>\n",
       "      <td>-5.901474</td>\n",
       "      <td>noth</td>\n",
       "    </tr>\n",
       "    <tr>\n",
       "      <th>10174</th>\n",
       "      <td>-5.880903</td>\n",
       "      <td>could</td>\n",
       "    </tr>\n",
       "    <tr>\n",
       "      <th>11978</th>\n",
       "      <td>-5.816067</td>\n",
       "      <td>depress</td>\n",
       "    </tr>\n",
       "    <tr>\n",
       "      <th>11298</th>\n",
       "      <td>-5.662734</td>\n",
       "      <td>day</td>\n",
       "    </tr>\n",
       "    <tr>\n",
       "      <th>38946</th>\n",
       "      <td>-5.549400</td>\n",
       "      <td>realli</td>\n",
       "    </tr>\n",
       "    <tr>\n",
       "      <th>33927</th>\n",
       "      <td>-5.498702</td>\n",
       "      <td>one</td>\n",
       "    </tr>\n",
       "    <tr>\n",
       "      <th>27833</th>\n",
       "      <td>-5.461317</td>\n",
       "      <td>live</td>\n",
       "    </tr>\n",
       "    <tr>\n",
       "      <th>53256</th>\n",
       "      <td>-5.314052</td>\n",
       "      <td>would</td>\n",
       "    </tr>\n",
       "    <tr>\n",
       "      <th>27656</th>\n",
       "      <td>-5.086128</td>\n",
       "      <td>like</td>\n",
       "    </tr>\n",
       "  </tbody>\n",
       "</table>\n",
       "</div>"
      ],
      "text/plain": [
       "       feature_log_probability feature_names\n",
       "22096                -5.962450            hi\n",
       "32960                -5.901474          noth\n",
       "10174                -5.880903         could\n",
       "11978                -5.816067       depress\n",
       "11298                -5.662734           day\n",
       "38946                -5.549400        realli\n",
       "33927                -5.498702           one\n",
       "27833                -5.461317          live\n",
       "53256                -5.314052         would\n",
       "27656                -5.086128          like"
      ]
     },
     "execution_count": 76,
     "metadata": {},
     "output_type": "execute_result"
    }
   ],
   "source": [
    "get_features= []\n",
    "for i in text_data_2.get_feature_names():\n",
    "    get_features.append(i)\n",
    "#print(get_features)\n",
    "top_features={}\n",
    "model= MultinomialNB(alpha=0.05)\n",
    "model.fit(xtrain_2,Y_train)\n",
    "#code reference taken from https://www.kaggle.com/nikhilparmar9/naive-bayes-donorschoose-dataset\n",
    "for j in range(len(get_features)):\n",
    "    top_features[j]= model.feature_log_prob_[1,j]\n",
    "final_features = pd.DataFrame({'feature_log_probability' : list(top_features.values()),'feature_names' : list(get_features)})\n",
    "top = final_features.sort_values(by = ['feature_log_probability'])\n",
    "top.tail(50)[1::5]"
   ]
  },
  {
   "cell_type": "markdown",
   "metadata": {},
   "source": [
    "<h4> These are some of the top words that have been used in suicidal comments."
   ]
  },
  {
   "cell_type": "markdown",
   "metadata": {},
   "source": [
    "<h2><font color=\"blue\"> 11. Checking my model on Futute Unseen Data"
   ]
  },
  {
   "cell_type": "code",
   "execution_count": 77,
   "metadata": {},
   "outputs": [],
   "source": [
    "from sklearn.pipeline import make_pipeline\n",
    "#code references taken from https://jakevdp.github.io/PythonDataScienceHandbook/05.05-naive-bayes.html\n",
    "model = make_pipeline(TfidfVectorizer(), MultinomialNB(alpha = 0.05))\n",
    "model.fit(X_train, Y_train)\n",
    "labels = model.predict(X_test)\n",
    "def pred(sentence, train= data, model= model):\n",
    "    k= model.predict([sentence])\n",
    "    return train[\"class\"][k[0]]"
   ]
  },
  {
   "cell_type": "code",
   "execution_count": 78,
   "metadata": {},
   "outputs": [
    {
     "data": {
      "text/plain": [
       "'suicide'"
      ]
     },
     "execution_count": 78,
     "metadata": {},
     "output_type": "execute_result"
    }
   ],
   "source": [
    "pred(\"I am sad and depressed. Help me.\")"
   ]
  },
  {
   "cell_type": "code",
   "execution_count": 79,
   "metadata": {},
   "outputs": [
    {
     "data": {
      "text/plain": [
       "'non-suicide'"
      ]
     },
     "execution_count": 79,
     "metadata": {},
     "output_type": "execute_result"
    }
   ],
   "source": [
    "pred(\"I feel good\")"
   ]
  },
  {
   "cell_type": "markdown",
   "metadata": {},
   "source": [
    "<h4> My model has predicted the correct class label of unseen comments. This indicates that the model is reliable. "
   ]
  },
  {
   "cell_type": "markdown",
   "metadata": {},
   "source": [
    "<h2><font color=\"blue\"> 12. Inferences and Conclusion"
   ]
  },
  {
   "cell_type": "markdown",
   "metadata": {},
   "source": [
    "1. Text Preprocessing is the most important step of cleaning the text alongwith the application of tokenization and stemming. \n",
    "\n",
    "2. There were no missing values in the data.\n",
    "\n",
    "3. The accuracy score is near about 90% for both set 1 (BoW) and set 2 (TFIDF). \n",
    "\n",
    "4. The number of true positives and true negatives are much higher than false positives and false negatives.\n",
    "\n",
    "5. The squared error in classification of correct positive classes and negative classes are quite low. This shows that my model has correctly classified majority of text data.   \n",
    "\n",
    "\n",
    "\n"
   ]
  }
 ],
 "metadata": {
  "colab": {
   "name": "Untitled1.ipynb",
   "provenance": []
  },
  "kernelspec": {
   "display_name": "Python 3",
   "language": "python",
   "name": "python3"
  },
  "language_info": {
   "codemirror_mode": {
    "name": "ipython",
    "version": 3
   },
   "file_extension": ".py",
   "mimetype": "text/x-python",
   "name": "python",
   "nbconvert_exporter": "python",
   "pygments_lexer": "ipython3",
   "version": "3.8.5"
  }
 },
 "nbformat": 4,
 "nbformat_minor": 1
}
